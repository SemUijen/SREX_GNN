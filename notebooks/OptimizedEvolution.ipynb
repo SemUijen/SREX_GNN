{
 "cells": [
  {
   "cell_type": "markdown",
   "id": "8ebd09b4ed4afaad",
   "metadata": {},
   "source": [
    "# Optimized Hybrid Genetic Search\n",
    "\n",
    "In this Notebook, the steps for setting up HGS with a SREXGNN model are explained"
   ]
  },
  {
   "cell_type": "code",
   "execution_count": 1,
   "id": "15089732",
   "metadata": {},
   "outputs": [
    {
     "data": {
      "text/plain": [
       "'/gpfs/home5/suijen/SREX_GNN'"
      ]
     },
     "execution_count": 1,
     "metadata": {},
     "output_type": "execute_result"
    }
   ],
   "source": [
    "import os\n",
    "os.chdir('/gpfs/home5/suijen/SREX_GNN')\n",
    "os.getcwd()"
   ]
  },
  {
   "cell_type": "markdown",
   "id": "595605366cb0da51",
   "metadata": {},
   "source": [
    "## Imports"
   ]
  },
  {
   "cell_type": "markdown",
   "id": "abe441cf1c1f0897",
   "metadata": {},
   "source": [
    "### Model imports"
   ]
  },
  {
   "cell_type": "code",
   "execution_count": 2,
   "id": "1fb4a19acdbd8b0",
   "metadata": {
    "ExecuteTime": {
     "end_time": "2023-11-02T15:18:21.511570100Z",
     "start_time": "2023-11-02T15:18:19.707874900Z"
    }
   },
   "outputs": [],
   "source": [
    "import torch\n",
    "from data.utils.GraphData import FullGraph, ParentGraph\n",
    "from Models import SREXmodel\n",
    "from torch_geometric.transforms import AddLaplacianEigenvectorPE\n",
    "from data.utils.Normalize import normalize_graphs"
   ]
  },
  {
   "cell_type": "code",
   "execution_count": 3,
   "id": "49ab707a",
   "metadata": {},
   "outputs": [
    {
     "data": {
      "text/plain": [
       "<All keys matched successfully>"
      ]
     },
     "execution_count": 3,
     "metadata": {},
     "output_type": "execute_result"
    }
   ],
   "source": [
    "model_dict = torch.load('data/model_data/model_states/SrexGNN_7_103_0.80_0.29_0.27')\n",
    "model = SREXmodel(num_node_features=11, hidden_dim=8, num_heads=8)\n",
    "model.load_state_dict(state_dict=model_dict['model_state'])"
   ]
  },
  {
   "cell_type": "markdown",
   "id": "2f4d53d27bd86af1",
   "metadata": {},
   "source": [
    "### HGS imports"
   ]
  },
  {
   "cell_type": "code",
   "execution_count": 4,
   "id": "2bce3b14cf807e20",
   "metadata": {
    "ExecuteTime": {
     "end_time": "2023-11-02T15:18:21.811571900Z",
     "start_time": "2023-11-02T15:18:21.513574600Z"
    }
   },
   "outputs": [],
   "source": [
    "from pathlib import Path\n",
    "from IPython.display import display\n",
    "import pickle\n",
    "import numpy as np\n",
    "import matplotlib.pyplot as plt\n",
    "%matplotlib inline\n",
    "\n",
    "import vrplib\n",
    "import pickle\n",
    "from typing import Optional\n",
    "from pyvrp import (\n",
    "    Solution,\n",
    "    PenaltyManager,\n",
    "    PopulationParams,\n",
    "    Population,\n",
    "    ProblemData,\n",
    "    Result,\n",
    "    RandomNumberGenerator,\n",
    "    CostEvaluator,\n",
    "    Statistics,\n",
    "    plotting,\n",
    "    read,\n",
    "    GeneticAlgorithmParams,\n",
    "    GeneticAlgorithm\n",
    ")\n",
    "from implementation.customHGS.CustomAlgorithm import GeneticAlgorithm as GnnAlgo\n",
    "from implementation.customHGS.CustomSrex import selective_route_exchange as Gnnsrex\n",
    "from implementation.customHGS.SolutionTransformer import SolutionTransformer\n",
    "\n",
    "\n",
    "from pyvrp.diversity import broken_pairs_distance as bpd\n",
    "from pyvrp.crossover import selective_route_exchange as srex\n",
    "from pyvrp.search import (\n",
    "    NODE_OPERATORS,\n",
    "    ROUTE_OPERATORS,\n",
    "    LocalSearch,\n",
    "    NeighbourhoodParams,\n",
    "    compute_neighbours,\n",
    ")\n",
    "from pyvrp.stop import MaxIterations, MaxRuntime, StoppingCriterion\n",
    "from pyvrp.plotting import plot_result"
   ]
  },
  {
   "cell_type": "markdown",
   "id": "5667e3e4c97c5d8f",
   "metadata": {},
   "source": [
    "## Configure HGS"
   ]
  },
  {
   "cell_type": "code",
   "execution_count": 5,
   "id": "48e786e508cdc4e6",
   "metadata": {
    "ExecuteTime": {
     "end_time": "2023-11-02T15:18:21.825573300Z",
     "start_time": "2023-11-02T15:18:21.813571600Z"
    }
   },
   "outputs": [],
   "source": [
    "def solve_GNN(\n",
    "    instance_name: str,\n",
    "    model: SREXmodel,\n",
    "    seed: int,\n",
    "    max_runtime: Optional[float] = None,\n",
    "    max_iterations: Optional[int] = None,\n",
    "    **kwargs,\n",
    "):\n",
    "    \n",
    "    PE = AddLaplacianEigenvectorPE(6, attr_name=None, is_undirected=True)\n",
    "    data = read(f\"data/routes/{instance_name}.vrp\", round_func=\"round\")\n",
    "    solution_tranform = SolutionTransformer()\n",
    "    rng = RandomNumberGenerator(seed=seed)\n",
    "    pen_manager = PenaltyManager()\n",
    "    \n",
    "\n",
    "    pop_params = PopulationParams()\n",
    "    pop = Population(bpd, params=pop_params)\n",
    "\n",
    "    nb_params = NeighbourhoodParams(nb_granular=20)\n",
    "    neighbours = compute_neighbours(data, nb_params)\n",
    "    ls_rng = RandomNumberGenerator(seed=42)\n",
    "    ls = LocalSearch(data, ls_rng, neighbours)\n",
    "\n",
    "    for op in NODE_OPERATORS:\n",
    "        ls.add_node_operator(op(data))\n",
    "\n",
    "    for op in ROUTE_OPERATORS:\n",
    "        ls.add_route_operator(op(data))\n",
    "\n",
    "\n",
    "    full_graph = FullGraph(*solution_tranform(instance=data,\n",
    "                                             get_full_graph=True))\n",
    "    \n",
    "    full_graph = normalize_graphs(full_graph)\n",
    "    full_graph = PE(full_graph)\n",
    "    model_CostEvaluator =  CostEvaluator(200, 6)\n",
    "\n",
    "\n",
    "    init = [\n",
    "        Solution.make_random(data, rng)\n",
    "        for _ in range(pop_params.min_pop_size)\n",
    "    ]\n",
    "    ga_params = GeneticAlgorithmParams()\n",
    "    algo = GnnAlgo(data, model, model_CostEvaluator, full_graph, pen_manager, rng, pop, ls, Gnnsrex, initial_solutions=init, params=ga_params)\n",
    "\n",
    "    \n",
    "    if max_runtime is not None:\n",
    "        stop = MaxRuntime(max_runtime)\n",
    "    else:\n",
    "        assert max_iterations is not None\n",
    "        stop = MaxIterations(max_iterations)\n",
    "    \n",
    "    result = algo.run(stop)\n",
    "    return  result"
   ]
  },
  {
   "cell_type": "code",
   "execution_count": 6,
   "id": "b92fe24f700e9dbe",
   "metadata": {
    "ExecuteTime": {
     "end_time": "2023-11-02T15:18:21.851572200Z",
     "start_time": "2023-11-02T15:18:21.828571500Z"
    }
   },
   "outputs": [],
   "source": [
    "def solve(\n",
    "    instance_name: str,\n",
    "    seed: int,\n",
    "    max_runtime: Optional[float] = None,\n",
    "    max_iterations: Optional[int] = None,\n",
    "    **kwargs,\n",
    "):\n",
    "    \n",
    "    data = read(f\"data/routes/{instance_name}.vrp\", round_func=\"round\")\n",
    "    \n",
    "    rng = RandomNumberGenerator(seed=seed)\n",
    "    pen_manager = PenaltyManager()\n",
    "\n",
    "    pop_params = PopulationParams()\n",
    "    pop = Population(bpd, params=pop_params)\n",
    "\n",
    "    nb_params = NeighbourhoodParams(nb_granular=20)\n",
    "    neighbours = compute_neighbours(data, nb_params)\n",
    "    \n",
    "    ls_rng = RandomNumberGenerator(seed=42)\n",
    "    ls = LocalSearch(data, ls_rng, neighbours)\n",
    "\n",
    "    for op in NODE_OPERATORS:\n",
    "        ls.add_node_operator(op(data))\n",
    "\n",
    "    for op in ROUTE_OPERATORS:\n",
    "        ls.add_route_operator(op(data))\n",
    "\n",
    "\n",
    "   \n",
    "    init = [\n",
    "        Solution.make_random(data, rng)\n",
    "        for _ in range(pop_params.min_pop_size)\n",
    "    ]\n",
    "    ga_params = GeneticAlgorithmParams()\n",
    "    algo = GeneticAlgorithm(data, pen_manager, rng, pop, ls, srex, initial_solutions=init, params=ga_params)\n",
    "\n",
    "    \n",
    "    if max_runtime is not None:\n",
    "        stop = MaxRuntime(max_runtime)\n",
    "    else:\n",
    "        assert max_iterations is not None\n",
    "        stop = MaxIterations(max_iterations)\n",
    "    \n",
    "    result = algo.run(stop)\n",
    "    return  result"
   ]
  },
  {
   "cell_type": "code",
   "execution_count": 7,
   "id": "e53d9757",
   "metadata": {},
   "outputs": [],
   "source": [
    "def plot_improvements(result, instance):\n",
    "    y = []\n",
    "    last_result = result.stats.feas_stats[0].best_cost\n",
    "\n",
    "    for d in result.stats.feas_stats:\n",
    "        \n",
    "        increase_in_best_score = last_result - d.best_cost\n",
    "\n",
    "        if increase_in_best_score < 0:\n",
    "            print(last_result, d.best_cost)\n",
    "\n",
    "        y.append(increase_in_best_score)\n",
    "        \n",
    "        last_result = d.best_cost\n",
    "    x = 1 + np.arange(result.num_iterations)\n",
    "\n",
    "    # the first improvement is relatively large. This will cloud the image\n",
    "    start = next((i for i, x in enumerate(y) if x), None) + 1\n",
    "    \n",
    "    fig = plt.figure(figsize=(15, 9))\n",
    "    fig.suptitle('Cost improvement', fontsize=20)\n",
    "    gs = fig.add_gridspec(2, 2, width_ratios=(2 / 4, 2 / 4))\n",
    "    ax_div = fig.add_subplot(gs[0, 0])\n",
    "    \n",
    "    ax_div.plot(x[start:],y[start:])\n",
    "    ax_div.set_ylabel(\"Cost Improvement\")\n",
    "    ax_div.set_xlabel('Iterations (#)')\n",
    "   \n",
    "    \n",
    "    # Smaller improvements are found later on:\n",
    "    start1 = round(len(y)/2)\n",
    "    ax = fig.add_subplot(gs[0, 1])\n",
    "    \n",
    "    ax.plot(x[start1:],y[start1:])\n",
    "    ax.set_ylabel(\"Cost Improvement\")\n",
    "    ax.set_xlabel('Iterations (#)')\n",
    "    \n",
    "    \n",
    "    fig.tight_layout()"
   ]
  },
  {
   "cell_type": "markdown",
   "id": "ef4b9b0ad60df0f5",
   "metadata": {},
   "source": [
    "## Run HGS"
   ]
  },
  {
   "cell_type": "code",
   "execution_count": 8,
   "id": "f7667d3c",
   "metadata": {},
   "outputs": [],
   "source": [
    "instance_name = \"X-n393-k38\"\n",
    "data = read(f\"data/routes/{instance_name}.vrp\", round_func=\"round\")"
   ]
  },
  {
   "cell_type": "code",
   "execution_count": 24,
   "id": "43f76b1e37f59eee",
   "metadata": {
    "ExecuteTime": {
     "end_time": "2023-11-02T15:19:37.785781500Z",
     "start_time": "2023-11-02T15:18:22.493825700Z"
    }
   },
   "outputs": [],
   "source": [
    "result_mod_36 = solve_GNN(instance_name, model=model, seed=10, max_runtime=300)"
   ]
  },
  {
   "cell_type": "code",
   "execution_count": null,
   "id": "069003a8",
   "metadata": {},
   "outputs": [],
   "source": [
    "print(result_mod_36)"
   ]
  },
  {
   "cell_type": "code",
   "execution_count": null,
   "id": "ba768077",
   "metadata": {},
   "outputs": [],
   "source": [
    "plot_improvements(result_mod_36, data)"
   ]
  },
  {
   "cell_type": "code",
   "execution_count": null,
   "id": "d348e635bd729868",
   "metadata": {
    "ExecuteTime": {
     "start_time": "2023-11-02T15:17:44.108870500Z"
    }
   },
   "outputs": [],
   "source": [
    "plot_result(result_mod_36, data)\n",
    "plt.tight_layout()"
   ]
  },
  {
   "cell_type": "code",
   "execution_count": 28,
   "id": "4d6a1c0ab0396861",
   "metadata": {
    "ExecuteTime": {
     "start_time": "2023-11-02T14:56:25.272480100Z"
    }
   },
   "outputs": [],
   "source": [
    "result_36 = solve(instance_name, seed=10, max_runtime=300)"
   ]
  },
  {
   "cell_type": "code",
   "execution_count": null,
   "id": "6de2bb2e",
   "metadata": {},
   "outputs": [],
   "source": [
    "plot_improvements(result_36, data)"
   ]
  },
  {
   "cell_type": "code",
   "execution_count": null,
   "id": "1162bcc7",
   "metadata": {},
   "outputs": [],
   "source": [
    "print(result_36)"
   ]
  },
  {
   "cell_type": "code",
   "execution_count": null,
   "id": "b900d5e2a98d38ca",
   "metadata": {},
   "outputs": [],
   "source": [
    "plot_result(result_36, data)\n",
    "plt.tight_layout()"
   ]
  }
 ],
 "metadata": {
  "kernelspec": {
   "display_name": "Python 3 (ipykernel)",
   "language": "python",
   "name": "python3"
  },
  "language_info": {
   "codemirror_mode": {
    "name": "ipython",
    "version": 3
   },
   "file_extension": ".py",
   "mimetype": "text/x-python",
   "name": "python",
   "nbconvert_exporter": "python",
   "pygments_lexer": "ipython3",
   "version": "3.10.4"
  }
 },
 "nbformat": 4,
 "nbformat_minor": 5
}
